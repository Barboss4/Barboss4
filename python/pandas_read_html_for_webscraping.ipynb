{
  "nbformat": 4,
  "nbformat_minor": 0,
  "metadata": {
    "colab": {
      "name": "pandas-read-html-for-webscraping.ipynb",
      "provenance": []
    },
    "kernelspec": {
      "name": "python3",
      "display_name": "Python 3"
    }
  },
  "cells": [
    {
      "cell_type": "markdown",
      "metadata": {
        "id": "5WNm0Jm7Sg_B"
      },
      "source": [
        "# **Using pandas read_html to Web Scrape Data for Data Science** \n",
        "\n",
        "Chanin Nantasenamat\n",
        "\n",
        "<i>[Data Professor YouTube channel](http://youtube.com/dataprofessor), http://youtube.com/dataprofessor </i>\n",
        "\n",
        "In this Jupyter notebook, I will be showing you how to easily web scrape data using pandas read_html() function for your data science project. We will be web scraping NBA player stats data and perform a quick data exploration."
      ]
    },
    {
      "cell_type": "markdown",
      "metadata": {
        "id": "jsGSzqADSa0o"
      },
      "source": [
        "## **URL to the webpage \"2018-19 NBA Player Stats: Per Game\"**"
      ]
    },
    {
      "cell_type": "markdown",
      "metadata": {
        "id": "-AQZU0n4StVq"
      },
      "source": [
        "### Method 1\n",
        "\n",
        "We could modularize the URL and year strings of text that may be useful for programmatic access (in the subsequent code cell)."
      ]
    },
    {
      "cell_type": "code",
      "metadata": {
        "id": "pGkHgtANQ4b2",
        "outputId": "ff2ecd23-f31c-4b41-ab47-fa85bbfc04b3",
        "colab": {
          "base_uri": "https://localhost:8080/",
          "height": 35
        }
      },
      "source": [
        "# The Building Blocks\n",
        "year = '2019'\n",
        "url_link = 'https://chem.nlm.nih.gov/chemidplus/sid/{}'\n",
        "\n",
        "# Combining the URL + year strings together\n",
        "url = url_link.format(year)\n",
        "url"
      ],
      "execution_count": null,
      "outputs": [
        {
          "output_type": "execute_result",
          "data": {
            "text/plain": [
              "'https://www.basketball-reference.com/leagues/NBA_2019_per_game.html'"
            ]
          },
          "metadata": {
            "tags": []
          },
          "execution_count": 3
        }
      ]
    },
    {
      "cell_type": "markdown",
      "metadata": {
        "id": "ySZux1-hWLbX"
      },
      "source": [
        "Now, let's programmatically return a list of URL given a list of years (e.g. 2015,2016,2017,2018,2019)."
      ]
    },
    {
      "cell_type": "code",
      "metadata": {
        "id": "JSw9Q7s7VQyd",
        "outputId": "405110a8-72a6-4172-eb17-1c229a2e9341",
        "colab": {
          "base_uri": "https://localhost:8080/",
          "height": 107
        }
      },
      "source": [
        "years = [2015,2016,2017,2018,2019]\n",
        "url_link = 'https://chem.nlm.nih.gov/chemidplus/sid/{}'\n",
        "\n",
        "for year in years:\n",
        "  url = url_link.format(year)\n",
        "  print(url)"
      ],
      "execution_count": null,
      "outputs": [
        {
          "output_type": "stream",
          "text": [
            "https://www.basketball-reference.com/leagues/NBA_2015_per_game.html\n",
            "https://www.basketball-reference.com/leagues/NBA_2016_per_game.html\n",
            "https://www.basketball-reference.com/leagues/NBA_2017_per_game.html\n",
            "https://www.basketball-reference.com/leagues/NBA_2018_per_game.html\n",
            "https://www.basketball-reference.com/leagues/NBA_2019_per_game.html\n"
          ],
          "name": "stdout"
        }
      ]
    },
    {
      "cell_type": "markdown",
      "metadata": {
        "id": "wlDt8TTxSvEz"
      },
      "source": [
        "Method 2"
      ]
    },
    {
      "cell_type": "code",
      "metadata": {
        "id": "-x78Rt_iRmCa"
      },
      "source": [
        "url = 'https://chem.nlm.nih.gov/chemidplus/sid/0015687271'"
      ],
      "execution_count": 1,
      "outputs": []
    },
    {
      "cell_type": "markdown",
      "metadata": {
        "id": "fhVY2xJJS0FU"
      },
      "source": [
        "## **Read HTML webpage into pandas**"
      ]
    },
    {
      "cell_type": "code",
      "metadata": {
        "id": "yE_EfE-gPW1a"
      },
      "source": [
        "import pandas as pd"
      ],
      "execution_count": 2,
      "outputs": []
    },
    {
      "cell_type": "markdown",
      "metadata": {
        "id": "Sk1EUVeFUXPq"
      },
      "source": [
        "### Using pd.read_html() function to read HTML webpage"
      ]
    },
    {
      "cell_type": "code",
      "metadata": {
        "id": "4sLS78K-S-r2",
        "outputId": "b5f5e340-bae4-4185-d4d1-80b3ccf98b35",
        "colab": {
          "base_uri": "https://localhost:8080/"
        }
      },
      "source": [
        "df = pd.read_html(url, header = 0)\n",
        "df"
      ],
      "execution_count": 6,
      "outputs": [
        {
          "output_type": "execute_result",
          "data": {
            "text/plain": [
              "[Empty DataFrame\n",
              " Columns: [Unnamed: 0, Transfer structure to query page  Find similar structures  Na +Find parent, salts, and hydrates  Enlarge the structure  3DView 3D structure]\n",
              " Index: [],                         Organism Test Type            Route  \\\n",
              " 0                          child      LDLo             oral   \n",
              " 1                          child      TDLo             oral   \n",
              " 2                          child      TDLo             oral   \n",
              " 3                     guinea pig      LD50             oral   \n",
              " 4                        hamster      LD50             oral   \n",
              " 5   mammal (species unspecified)      LD50             oral   \n",
              " 6                            man      LDLo             oral   \n",
              " 7                            man      TDLo             oral   \n",
              " 8                            man      TDLo             oral   \n",
              " 9                            man      TDLo             oral   \n",
              " 10                           man      TDLo             oral   \n",
              " 11                           man      TDLo             oral   \n",
              " 12                           man      TDLo             oral   \n",
              " 13                           man      TDLo             oral   \n",
              " 14                         mouse      LD50  intraperitoneal   \n",
              " 15                         mouse      LD50             oral   \n",
              " 16                         mouse      LD50           rectal   \n",
              " 17                         mouse      LD50     subcutaneous   \n",
              " 18                        rabbit      LD50             oral   \n",
              " 19                        rabbit      LD50           rectal   \n",
              " 20                           rat      LD50  intraperitoneal   \n",
              " 21                           rat      LD50             oral   \n",
              " 22                           rat      LD50           rectal   \n",
              " 23                           rat      LD50     subcutaneous   \n",
              " 24                         women      TDLo             oral   \n",
              " 25                         women      TDLo             oral   \n",
              " 26                         women      TDLo       unreported   \n",
              " \n",
              "    Reported Dose (Normalized Dose)  \\\n",
              " 0              469mg/kg (469mg/kg)   \n",
              " 1         480mg/kg/17D- (480mg/kg)   \n",
              " 2              500mg/kg (500mg/kg)   \n",
              " 3              495mg/kg (495mg/kg)   \n",
              " 4            1690mg/kg (1690mg/kg)   \n",
              " 5               1gm/kg (1000mg/kg)   \n",
              " 6              171mg/kg (171mg/kg)   \n",
              " 7          120mg/kg/W-I (120mg/kg)   \n",
              " 8          120mg/kg/W-I (120mg/kg)   \n",
              " 9         180mg/kg/3W-I (180mg/kg)   \n",
              " 10             429mg/kg (429mg/kg)   \n",
              " 11             800mg/kg (800mg/kg)   \n",
              " 12             800mg/kg (800mg/kg)   \n",
              " 13           1028mg/kg (1028mg/kg)   \n",
              " 14             320mg/kg (320mg/kg)   \n",
              " 15             740mg/kg (740mg/kg)   \n",
              " 16             620mg/kg (620mg/kg)   \n",
              " 17             395mg/kg (395mg/kg)   \n",
              " 18           1400mg/kg (1400mg/kg)   \n",
              " 19             830mg/kg (830mg/kg)   \n",
              " 20             626mg/kg (626mg/kg)   \n",
              " 21             636mg/kg (636mg/kg)   \n",
              " 22             530mg/kg (530mg/kg)   \n",
              " 23             740mg/kg (740mg/kg)   \n",
              " 24                 8mg/kg (8mg/kg)   \n",
              " 25        132mg/kg/6D-I (132mg/kg)   \n",
              " 26          96mg/kg/3D-I (96mg/kg)   \n",
              " \n",
              "                                                Effect  \\\n",
              " 0   LUNGS, THORAX, OR RESPIRATION: DYSPNEABEHAVIOR...   \n",
              " 1   LIVER: \"HEPATITIS (HEPATOCELLULAR NECROSIS), D...   \n",
              " 2   BEHAVIORAL: CONVULSIONS OR EFFECT ON SEIZURE T...   \n",
              " 3                                                 NaN   \n",
              " 4                                                 NaN   \n",
              " 5                                                 NaN   \n",
              " 6   BEHAVIORAL: GENERAL ANESTHETICVASCULAR: BP LOW...   \n",
              " 7                                                 NaN   \n",
              " 8   SENSE ORGANS AND SPECIAL SENSES: OTHER: EYESKI...   \n",
              " 9                      LIVER: \"JAUNDICE, CHOLESTATIC\"   \n",
              " 10  KIDNEY, URETER, AND BLADDER: \"CHANGES IN TUBUL...   \n",
              " 11                                                NaN   \n",
              " 12  BEHAVIORAL: COMABEHAVIORAL: SOMNOLENCE (GENERA...   \n",
              " 13  KIDNEY, URETER, AND BLADDER: \"CHANGES IN TUBUL...   \n",
              " 14  GASTROINTESTINAL: ULCERATION OR BLEEDING FROM ...   \n",
              " 15                              BEHAVIORAL: ANALGESIA   \n",
              " 16  BEHAVIORAL: CHANGES IN MOTOR ACTIVITY (SPECIFI...   \n",
              " 17                                                NaN   \n",
              " 18                                                NaN   \n",
              " 19                                                NaN   \n",
              " 20                              BEHAVIORAL: ANALGESIA   \n",
              " 21                                                NaN   \n",
              " 22  GASTROINTESTINAL: \"HYPERMOTILITY, DIARRHEA\"BEH...   \n",
              " 23                                                NaN   \n",
              " 24                               BEHAVIORAL: HEADACHE   \n",
              " 25                            BLOOD: THROMBOCYTOPENIA   \n",
              " 26     SENSE ORGANS AND SPECIAL SENSES: DIPLOPIA: EYE   \n",
              " \n",
              "                                                Source  \n",
              " 0   Annals of Emergency Medicine. Vol. 15, Pg. 130...  \n",
              " 1      Journal of Pediatrics. Vol. 90, Pg. 657, 1977.  \n",
              " 2   Annals of Pharmacotherpy. Vol. 31, Pg. 432, 1997.  \n",
              " 3   Archives of Toxicology, Supplement. Vol. 7, Pg...  \n",
              " 4   Archives of Toxicology, Supplement. Vol. 7, Pg...  \n",
              " 5   Acta Poloniae Pharmaceutica. For English trans...  \n",
              " 6   British Medical Journal. Vol. 281, Pg. 1458, 1...  \n",
              " 7   New York State Journal of Medicine. Vol. 78, P...  \n",
              " 8   New York State Journal of Medicine. Vol. 78, P...  \n",
              " 9   American Journal of Gastroenterology. Vol. 91,...  \n",
              " 10  Journal of Toxicology, Clinical Toxicology. Vo...  \n",
              " 11  Postgraduate Medical Journal. Vol. 69, Pg. 575...  \n",
              " 12  Postgraduate Medical Journal. Vol. 69, Pg. 575...  \n",
              " 13  American Journal of Emergency Medicine. Vol. 1...  \n",
              " 14  Toxicology and Applied Pharmacology. Vol. 15, ...  \n",
              " 15  Pharmaceutical Chemistry Journal Vol. 14, Pg. ...  \n",
              " 16  Oyo Yakuri. Pharmacometrics. Vol. 24, Pg. 415,...  \n",
              " 17  Oyo Yakuri. Pharmacometrics. Vol. 24, Pg. 415,...  \n",
              " 18  Gekkan Yakuji. Pharmaceuticals Monthly. Vol. 3...  \n",
              " 19  Gekkan Yakuji. Pharmaceuticals Monthly. Vol. 3...  \n",
              " 20  Arzneimittel-Forschung. Drug Research. Vol. 27...  \n",
              " 21  Arzneimittel-Forschung. Drug Research. Vol. 34...  \n",
              " 22  Oyo Yakuri. Pharmacometrics. Vol. 24, Pg. 415,...  \n",
              " 23  Oyo Yakuri. Pharmacometrics. Vol. 24, Pg. 415,...  \n",
              " 24  JAMA, Journal of the American Medical Associat...  \n",
              " 25  British Journal of Clinical Practice. Vol. 48,...  \n",
              " 26  JAMA, Journal of the American Medical Associat...  ,               Physical Property         Value             Units  Temp (deg C)  \\\n",
              " 0                 Melting Point  7.600000e+01             deg C           NaN   \n",
              " 1     pKa Dissociation Constant  4.910000e+00            (none)           NaN   \n",
              " 2         log P (octanol-water)  3.970000e+00            (none)           NaN   \n",
              " 3              Water Solubility  2.100000e+01              mg/L          25.0   \n",
              " 4                Vapor Pressure  1.860000e-04             mm Hg          25.0   \n",
              " 5          Henry's Law Constant  1.500000e-07       atm-m3/mole          25.0   \n",
              " 6  Atmospheric OH Rate Constant  1.160000e-11  cm3/molecule-sec          25.0   \n",
              " \n",
              "   Source  \n",
              " 0    EXP  \n",
              " 1    EXP  \n",
              " 2    EXP  \n",
              " 3    EXP  \n",
              " 4    EST  \n",
              " 5    EST  \n",
              " 6    EST  ]"
            ]
          },
          "metadata": {},
          "execution_count": 6
        }
      ]
    },
    {
      "cell_type": "markdown",
      "metadata": {
        "id": "iVtWB7zuUWIp"
      },
      "source": [
        "### How many tables are there in the webpage?"
      ]
    },
    {
      "cell_type": "code",
      "metadata": {
        "id": "BdIXrthuTApH",
        "outputId": "da4e1292-1824-46f3-d6ed-31836ca9194f",
        "colab": {
          "base_uri": "https://localhost:8080/"
        }
      },
      "source": [
        "len(df)"
      ],
      "execution_count": 4,
      "outputs": [
        {
          "output_type": "execute_result",
          "data": {
            "text/plain": [
              "2"
            ]
          },
          "metadata": {},
          "execution_count": 4
        }
      ]
    },
    {
      "cell_type": "markdown",
      "metadata": {
        "id": "glCMVlkWU6ik"
      },
      "source": [
        "### Select the first table"
      ]
    },
    {
      "cell_type": "code",
      "metadata": {
        "id": "Pv0NHbFeTrEp",
        "outputId": "09c269f5-0db7-4773-bc9a-b67e295f3061",
        "colab": {
          "base_uri": "https://localhost:8080/",
          "height": 1000
        }
      },
      "source": [
        "df[1]"
      ],
      "execution_count": 7,
      "outputs": [
        {
          "output_type": "execute_result",
          "data": {
            "text/plain": [
              "                        Organism Test Type            Route  \\\n",
              "0                          child      LDLo             oral   \n",
              "1                          child      TDLo             oral   \n",
              "2                          child      TDLo             oral   \n",
              "3                     guinea pig      LD50             oral   \n",
              "4                        hamster      LD50             oral   \n",
              "5   mammal (species unspecified)      LD50             oral   \n",
              "6                            man      LDLo             oral   \n",
              "7                            man      TDLo             oral   \n",
              "8                            man      TDLo             oral   \n",
              "9                            man      TDLo             oral   \n",
              "10                           man      TDLo             oral   \n",
              "11                           man      TDLo             oral   \n",
              "12                           man      TDLo             oral   \n",
              "13                           man      TDLo             oral   \n",
              "14                         mouse      LD50  intraperitoneal   \n",
              "15                         mouse      LD50             oral   \n",
              "16                         mouse      LD50           rectal   \n",
              "17                         mouse      LD50     subcutaneous   \n",
              "18                        rabbit      LD50             oral   \n",
              "19                        rabbit      LD50           rectal   \n",
              "20                           rat      LD50  intraperitoneal   \n",
              "21                           rat      LD50             oral   \n",
              "22                           rat      LD50           rectal   \n",
              "23                           rat      LD50     subcutaneous   \n",
              "24                         women      TDLo             oral   \n",
              "25                         women      TDLo             oral   \n",
              "26                         women      TDLo       unreported   \n",
              "\n",
              "   Reported Dose (Normalized Dose)  \\\n",
              "0              469mg/kg (469mg/kg)   \n",
              "1         480mg/kg/17D- (480mg/kg)   \n",
              "2              500mg/kg (500mg/kg)   \n",
              "3              495mg/kg (495mg/kg)   \n",
              "4            1690mg/kg (1690mg/kg)   \n",
              "5               1gm/kg (1000mg/kg)   \n",
              "6              171mg/kg (171mg/kg)   \n",
              "7          120mg/kg/W-I (120mg/kg)   \n",
              "8          120mg/kg/W-I (120mg/kg)   \n",
              "9         180mg/kg/3W-I (180mg/kg)   \n",
              "10             429mg/kg (429mg/kg)   \n",
              "11             800mg/kg (800mg/kg)   \n",
              "12             800mg/kg (800mg/kg)   \n",
              "13           1028mg/kg (1028mg/kg)   \n",
              "14             320mg/kg (320mg/kg)   \n",
              "15             740mg/kg (740mg/kg)   \n",
              "16             620mg/kg (620mg/kg)   \n",
              "17             395mg/kg (395mg/kg)   \n",
              "18           1400mg/kg (1400mg/kg)   \n",
              "19             830mg/kg (830mg/kg)   \n",
              "20             626mg/kg (626mg/kg)   \n",
              "21             636mg/kg (636mg/kg)   \n",
              "22             530mg/kg (530mg/kg)   \n",
              "23             740mg/kg (740mg/kg)   \n",
              "24                 8mg/kg (8mg/kg)   \n",
              "25        132mg/kg/6D-I (132mg/kg)   \n",
              "26          96mg/kg/3D-I (96mg/kg)   \n",
              "\n",
              "                                               Effect  \\\n",
              "0   LUNGS, THORAX, OR RESPIRATION: DYSPNEABEHAVIOR...   \n",
              "1   LIVER: \"HEPATITIS (HEPATOCELLULAR NECROSIS), D...   \n",
              "2   BEHAVIORAL: CONVULSIONS OR EFFECT ON SEIZURE T...   \n",
              "3                                                 NaN   \n",
              "4                                                 NaN   \n",
              "5                                                 NaN   \n",
              "6   BEHAVIORAL: GENERAL ANESTHETICVASCULAR: BP LOW...   \n",
              "7                                                 NaN   \n",
              "8   SENSE ORGANS AND SPECIAL SENSES: OTHER: EYESKI...   \n",
              "9                      LIVER: \"JAUNDICE, CHOLESTATIC\"   \n",
              "10  KIDNEY, URETER, AND BLADDER: \"CHANGES IN TUBUL...   \n",
              "11                                                NaN   \n",
              "12  BEHAVIORAL: COMABEHAVIORAL: SOMNOLENCE (GENERA...   \n",
              "13  KIDNEY, URETER, AND BLADDER: \"CHANGES IN TUBUL...   \n",
              "14  GASTROINTESTINAL: ULCERATION OR BLEEDING FROM ...   \n",
              "15                              BEHAVIORAL: ANALGESIA   \n",
              "16  BEHAVIORAL: CHANGES IN MOTOR ACTIVITY (SPECIFI...   \n",
              "17                                                NaN   \n",
              "18                                                NaN   \n",
              "19                                                NaN   \n",
              "20                              BEHAVIORAL: ANALGESIA   \n",
              "21                                                NaN   \n",
              "22  GASTROINTESTINAL: \"HYPERMOTILITY, DIARRHEA\"BEH...   \n",
              "23                                                NaN   \n",
              "24                               BEHAVIORAL: HEADACHE   \n",
              "25                            BLOOD: THROMBOCYTOPENIA   \n",
              "26     SENSE ORGANS AND SPECIAL SENSES: DIPLOPIA: EYE   \n",
              "\n",
              "                                               Source  \n",
              "0   Annals of Emergency Medicine. Vol. 15, Pg. 130...  \n",
              "1      Journal of Pediatrics. Vol. 90, Pg. 657, 1977.  \n",
              "2   Annals of Pharmacotherpy. Vol. 31, Pg. 432, 1997.  \n",
              "3   Archives of Toxicology, Supplement. Vol. 7, Pg...  \n",
              "4   Archives of Toxicology, Supplement. Vol. 7, Pg...  \n",
              "5   Acta Poloniae Pharmaceutica. For English trans...  \n",
              "6   British Medical Journal. Vol. 281, Pg. 1458, 1...  \n",
              "7   New York State Journal of Medicine. Vol. 78, P...  \n",
              "8   New York State Journal of Medicine. Vol. 78, P...  \n",
              "9   American Journal of Gastroenterology. Vol. 91,...  \n",
              "10  Journal of Toxicology, Clinical Toxicology. Vo...  \n",
              "11  Postgraduate Medical Journal. Vol. 69, Pg. 575...  \n",
              "12  Postgraduate Medical Journal. Vol. 69, Pg. 575...  \n",
              "13  American Journal of Emergency Medicine. Vol. 1...  \n",
              "14  Toxicology and Applied Pharmacology. Vol. 15, ...  \n",
              "15  Pharmaceutical Chemistry Journal Vol. 14, Pg. ...  \n",
              "16  Oyo Yakuri. Pharmacometrics. Vol. 24, Pg. 415,...  \n",
              "17  Oyo Yakuri. Pharmacometrics. Vol. 24, Pg. 415,...  \n",
              "18  Gekkan Yakuji. Pharmaceuticals Monthly. Vol. 3...  \n",
              "19  Gekkan Yakuji. Pharmaceuticals Monthly. Vol. 3...  \n",
              "20  Arzneimittel-Forschung. Drug Research. Vol. 27...  \n",
              "21  Arzneimittel-Forschung. Drug Research. Vol. 34...  \n",
              "22  Oyo Yakuri. Pharmacometrics. Vol. 24, Pg. 415,...  \n",
              "23  Oyo Yakuri. Pharmacometrics. Vol. 24, Pg. 415,...  \n",
              "24  JAMA, Journal of the American Medical Associat...  \n",
              "25  British Journal of Clinical Practice. Vol. 48,...  \n",
              "26  JAMA, Journal of the American Medical Associat...  "
            ],
            "text/html": [
              "\n",
              "  <div id=\"df-701a0664-52bb-49ee-ab02-f4a2de58d63b\">\n",
              "    <div class=\"colab-df-container\">\n",
              "      <div>\n",
              "<style scoped>\n",
              "    .dataframe tbody tr th:only-of-type {\n",
              "        vertical-align: middle;\n",
              "    }\n",
              "\n",
              "    .dataframe tbody tr th {\n",
              "        vertical-align: top;\n",
              "    }\n",
              "\n",
              "    .dataframe thead th {\n",
              "        text-align: right;\n",
              "    }\n",
              "</style>\n",
              "<table border=\"1\" class=\"dataframe\">\n",
              "  <thead>\n",
              "    <tr style=\"text-align: right;\">\n",
              "      <th></th>\n",
              "      <th>Organism</th>\n",
              "      <th>Test Type</th>\n",
              "      <th>Route</th>\n",
              "      <th>Reported Dose (Normalized Dose)</th>\n",
              "      <th>Effect</th>\n",
              "      <th>Source</th>\n",
              "    </tr>\n",
              "  </thead>\n",
              "  <tbody>\n",
              "    <tr>\n",
              "      <th>0</th>\n",
              "      <td>child</td>\n",
              "      <td>LDLo</td>\n",
              "      <td>oral</td>\n",
              "      <td>469mg/kg (469mg/kg)</td>\n",
              "      <td>LUNGS, THORAX, OR RESPIRATION: DYSPNEABEHAVIOR...</td>\n",
              "      <td>Annals of Emergency Medicine. Vol. 15, Pg. 130...</td>\n",
              "    </tr>\n",
              "    <tr>\n",
              "      <th>1</th>\n",
              "      <td>child</td>\n",
              "      <td>TDLo</td>\n",
              "      <td>oral</td>\n",
              "      <td>480mg/kg/17D- (480mg/kg)</td>\n",
              "      <td>LIVER: \"HEPATITIS (HEPATOCELLULAR NECROSIS), D...</td>\n",
              "      <td>Journal of Pediatrics. Vol. 90, Pg. 657, 1977.</td>\n",
              "    </tr>\n",
              "    <tr>\n",
              "      <th>2</th>\n",
              "      <td>child</td>\n",
              "      <td>TDLo</td>\n",
              "      <td>oral</td>\n",
              "      <td>500mg/kg (500mg/kg)</td>\n",
              "      <td>BEHAVIORAL: CONVULSIONS OR EFFECT ON SEIZURE T...</td>\n",
              "      <td>Annals of Pharmacotherpy. Vol. 31, Pg. 432, 1997.</td>\n",
              "    </tr>\n",
              "    <tr>\n",
              "      <th>3</th>\n",
              "      <td>guinea pig</td>\n",
              "      <td>LD50</td>\n",
              "      <td>oral</td>\n",
              "      <td>495mg/kg (495mg/kg)</td>\n",
              "      <td>NaN</td>\n",
              "      <td>Archives of Toxicology, Supplement. Vol. 7, Pg...</td>\n",
              "    </tr>\n",
              "    <tr>\n",
              "      <th>4</th>\n",
              "      <td>hamster</td>\n",
              "      <td>LD50</td>\n",
              "      <td>oral</td>\n",
              "      <td>1690mg/kg (1690mg/kg)</td>\n",
              "      <td>NaN</td>\n",
              "      <td>Archives of Toxicology, Supplement. Vol. 7, Pg...</td>\n",
              "    </tr>\n",
              "    <tr>\n",
              "      <th>5</th>\n",
              "      <td>mammal (species unspecified)</td>\n",
              "      <td>LD50</td>\n",
              "      <td>oral</td>\n",
              "      <td>1gm/kg (1000mg/kg)</td>\n",
              "      <td>NaN</td>\n",
              "      <td>Acta Poloniae Pharmaceutica. For English trans...</td>\n",
              "    </tr>\n",
              "    <tr>\n",
              "      <th>6</th>\n",
              "      <td>man</td>\n",
              "      <td>LDLo</td>\n",
              "      <td>oral</td>\n",
              "      <td>171mg/kg (171mg/kg)</td>\n",
              "      <td>BEHAVIORAL: GENERAL ANESTHETICVASCULAR: BP LOW...</td>\n",
              "      <td>British Medical Journal. Vol. 281, Pg. 1458, 1...</td>\n",
              "    </tr>\n",
              "    <tr>\n",
              "      <th>7</th>\n",
              "      <td>man</td>\n",
              "      <td>TDLo</td>\n",
              "      <td>oral</td>\n",
              "      <td>120mg/kg/W-I (120mg/kg)</td>\n",
              "      <td>NaN</td>\n",
              "      <td>New York State Journal of Medicine. Vol. 78, P...</td>\n",
              "    </tr>\n",
              "    <tr>\n",
              "      <th>8</th>\n",
              "      <td>man</td>\n",
              "      <td>TDLo</td>\n",
              "      <td>oral</td>\n",
              "      <td>120mg/kg/W-I (120mg/kg)</td>\n",
              "      <td>SENSE ORGANS AND SPECIAL SENSES: OTHER: EYESKI...</td>\n",
              "      <td>New York State Journal of Medicine. Vol. 78, P...</td>\n",
              "    </tr>\n",
              "    <tr>\n",
              "      <th>9</th>\n",
              "      <td>man</td>\n",
              "      <td>TDLo</td>\n",
              "      <td>oral</td>\n",
              "      <td>180mg/kg/3W-I (180mg/kg)</td>\n",
              "      <td>LIVER: \"JAUNDICE, CHOLESTATIC\"</td>\n",
              "      <td>American Journal of Gastroenterology. Vol. 91,...</td>\n",
              "    </tr>\n",
              "    <tr>\n",
              "      <th>10</th>\n",
              "      <td>man</td>\n",
              "      <td>TDLo</td>\n",
              "      <td>oral</td>\n",
              "      <td>429mg/kg (429mg/kg)</td>\n",
              "      <td>KIDNEY, URETER, AND BLADDER: \"CHANGES IN TUBUL...</td>\n",
              "      <td>Journal of Toxicology, Clinical Toxicology. Vo...</td>\n",
              "    </tr>\n",
              "    <tr>\n",
              "      <th>11</th>\n",
              "      <td>man</td>\n",
              "      <td>TDLo</td>\n",
              "      <td>oral</td>\n",
              "      <td>800mg/kg (800mg/kg)</td>\n",
              "      <td>NaN</td>\n",
              "      <td>Postgraduate Medical Journal. Vol. 69, Pg. 575...</td>\n",
              "    </tr>\n",
              "    <tr>\n",
              "      <th>12</th>\n",
              "      <td>man</td>\n",
              "      <td>TDLo</td>\n",
              "      <td>oral</td>\n",
              "      <td>800mg/kg (800mg/kg)</td>\n",
              "      <td>BEHAVIORAL: COMABEHAVIORAL: SOMNOLENCE (GENERA...</td>\n",
              "      <td>Postgraduate Medical Journal. Vol. 69, Pg. 575...</td>\n",
              "    </tr>\n",
              "    <tr>\n",
              "      <th>13</th>\n",
              "      <td>man</td>\n",
              "      <td>TDLo</td>\n",
              "      <td>oral</td>\n",
              "      <td>1028mg/kg (1028mg/kg)</td>\n",
              "      <td>KIDNEY, URETER, AND BLADDER: \"CHANGES IN TUBUL...</td>\n",
              "      <td>American Journal of Emergency Medicine. Vol. 1...</td>\n",
              "    </tr>\n",
              "    <tr>\n",
              "      <th>14</th>\n",
              "      <td>mouse</td>\n",
              "      <td>LD50</td>\n",
              "      <td>intraperitoneal</td>\n",
              "      <td>320mg/kg (320mg/kg)</td>\n",
              "      <td>GASTROINTESTINAL: ULCERATION OR BLEEDING FROM ...</td>\n",
              "      <td>Toxicology and Applied Pharmacology. Vol. 15, ...</td>\n",
              "    </tr>\n",
              "    <tr>\n",
              "      <th>15</th>\n",
              "      <td>mouse</td>\n",
              "      <td>LD50</td>\n",
              "      <td>oral</td>\n",
              "      <td>740mg/kg (740mg/kg)</td>\n",
              "      <td>BEHAVIORAL: ANALGESIA</td>\n",
              "      <td>Pharmaceutical Chemistry Journal Vol. 14, Pg. ...</td>\n",
              "    </tr>\n",
              "    <tr>\n",
              "      <th>16</th>\n",
              "      <td>mouse</td>\n",
              "      <td>LD50</td>\n",
              "      <td>rectal</td>\n",
              "      <td>620mg/kg (620mg/kg)</td>\n",
              "      <td>BEHAVIORAL: CHANGES IN MOTOR ACTIVITY (SPECIFI...</td>\n",
              "      <td>Oyo Yakuri. Pharmacometrics. Vol. 24, Pg. 415,...</td>\n",
              "    </tr>\n",
              "    <tr>\n",
              "      <th>17</th>\n",
              "      <td>mouse</td>\n",
              "      <td>LD50</td>\n",
              "      <td>subcutaneous</td>\n",
              "      <td>395mg/kg (395mg/kg)</td>\n",
              "      <td>NaN</td>\n",
              "      <td>Oyo Yakuri. Pharmacometrics. Vol. 24, Pg. 415,...</td>\n",
              "    </tr>\n",
              "    <tr>\n",
              "      <th>18</th>\n",
              "      <td>rabbit</td>\n",
              "      <td>LD50</td>\n",
              "      <td>oral</td>\n",
              "      <td>1400mg/kg (1400mg/kg)</td>\n",
              "      <td>NaN</td>\n",
              "      <td>Gekkan Yakuji. Pharmaceuticals Monthly. Vol. 3...</td>\n",
              "    </tr>\n",
              "    <tr>\n",
              "      <th>19</th>\n",
              "      <td>rabbit</td>\n",
              "      <td>LD50</td>\n",
              "      <td>rectal</td>\n",
              "      <td>830mg/kg (830mg/kg)</td>\n",
              "      <td>NaN</td>\n",
              "      <td>Gekkan Yakuji. Pharmaceuticals Monthly. Vol. 3...</td>\n",
              "    </tr>\n",
              "    <tr>\n",
              "      <th>20</th>\n",
              "      <td>rat</td>\n",
              "      <td>LD50</td>\n",
              "      <td>intraperitoneal</td>\n",
              "      <td>626mg/kg (626mg/kg)</td>\n",
              "      <td>BEHAVIORAL: ANALGESIA</td>\n",
              "      <td>Arzneimittel-Forschung. Drug Research. Vol. 27...</td>\n",
              "    </tr>\n",
              "    <tr>\n",
              "      <th>21</th>\n",
              "      <td>rat</td>\n",
              "      <td>LD50</td>\n",
              "      <td>oral</td>\n",
              "      <td>636mg/kg (636mg/kg)</td>\n",
              "      <td>NaN</td>\n",
              "      <td>Arzneimittel-Forschung. Drug Research. Vol. 34...</td>\n",
              "    </tr>\n",
              "    <tr>\n",
              "      <th>22</th>\n",
              "      <td>rat</td>\n",
              "      <td>LD50</td>\n",
              "      <td>rectal</td>\n",
              "      <td>530mg/kg (530mg/kg)</td>\n",
              "      <td>GASTROINTESTINAL: \"HYPERMOTILITY, DIARRHEA\"BEH...</td>\n",
              "      <td>Oyo Yakuri. Pharmacometrics. Vol. 24, Pg. 415,...</td>\n",
              "    </tr>\n",
              "    <tr>\n",
              "      <th>23</th>\n",
              "      <td>rat</td>\n",
              "      <td>LD50</td>\n",
              "      <td>subcutaneous</td>\n",
              "      <td>740mg/kg (740mg/kg)</td>\n",
              "      <td>NaN</td>\n",
              "      <td>Oyo Yakuri. Pharmacometrics. Vol. 24, Pg. 415,...</td>\n",
              "    </tr>\n",
              "    <tr>\n",
              "      <th>24</th>\n",
              "      <td>women</td>\n",
              "      <td>TDLo</td>\n",
              "      <td>oral</td>\n",
              "      <td>8mg/kg (8mg/kg)</td>\n",
              "      <td>BEHAVIORAL: HEADACHE</td>\n",
              "      <td>JAMA, Journal of the American Medical Associat...</td>\n",
              "    </tr>\n",
              "    <tr>\n",
              "      <th>25</th>\n",
              "      <td>women</td>\n",
              "      <td>TDLo</td>\n",
              "      <td>oral</td>\n",
              "      <td>132mg/kg/6D-I (132mg/kg)</td>\n",
              "      <td>BLOOD: THROMBOCYTOPENIA</td>\n",
              "      <td>British Journal of Clinical Practice. Vol. 48,...</td>\n",
              "    </tr>\n",
              "    <tr>\n",
              "      <th>26</th>\n",
              "      <td>women</td>\n",
              "      <td>TDLo</td>\n",
              "      <td>unreported</td>\n",
              "      <td>96mg/kg/3D-I (96mg/kg)</td>\n",
              "      <td>SENSE ORGANS AND SPECIAL SENSES: DIPLOPIA: EYE</td>\n",
              "      <td>JAMA, Journal of the American Medical Associat...</td>\n",
              "    </tr>\n",
              "  </tbody>\n",
              "</table>\n",
              "</div>\n",
              "      <button class=\"colab-df-convert\" onclick=\"convertToInteractive('df-701a0664-52bb-49ee-ab02-f4a2de58d63b')\"\n",
              "              title=\"Convert this dataframe to an interactive table.\"\n",
              "              style=\"display:none;\">\n",
              "        \n",
              "  <svg xmlns=\"http://www.w3.org/2000/svg\" height=\"24px\"viewBox=\"0 0 24 24\"\n",
              "       width=\"24px\">\n",
              "    <path d=\"M0 0h24v24H0V0z\" fill=\"none\"/>\n",
              "    <path d=\"M18.56 5.44l.94 2.06.94-2.06 2.06-.94-2.06-.94-.94-2.06-.94 2.06-2.06.94zm-11 1L8.5 8.5l.94-2.06 2.06-.94-2.06-.94L8.5 2.5l-.94 2.06-2.06.94zm10 10l.94 2.06.94-2.06 2.06-.94-2.06-.94-.94-2.06-.94 2.06-2.06.94z\"/><path d=\"M17.41 7.96l-1.37-1.37c-.4-.4-.92-.59-1.43-.59-.52 0-1.04.2-1.43.59L10.3 9.45l-7.72 7.72c-.78.78-.78 2.05 0 2.83L4 21.41c.39.39.9.59 1.41.59.51 0 1.02-.2 1.41-.59l7.78-7.78 2.81-2.81c.8-.78.8-2.07 0-2.86zM5.41 20L4 18.59l7.72-7.72 1.47 1.35L5.41 20z\"/>\n",
              "  </svg>\n",
              "      </button>\n",
              "      \n",
              "  <style>\n",
              "    .colab-df-container {\n",
              "      display:flex;\n",
              "      flex-wrap:wrap;\n",
              "      gap: 12px;\n",
              "    }\n",
              "\n",
              "    .colab-df-convert {\n",
              "      background-color: #E8F0FE;\n",
              "      border: none;\n",
              "      border-radius: 50%;\n",
              "      cursor: pointer;\n",
              "      display: none;\n",
              "      fill: #1967D2;\n",
              "      height: 32px;\n",
              "      padding: 0 0 0 0;\n",
              "      width: 32px;\n",
              "    }\n",
              "\n",
              "    .colab-df-convert:hover {\n",
              "      background-color: #E2EBFA;\n",
              "      box-shadow: 0px 1px 2px rgba(60, 64, 67, 0.3), 0px 1px 3px 1px rgba(60, 64, 67, 0.15);\n",
              "      fill: #174EA6;\n",
              "    }\n",
              "\n",
              "    [theme=dark] .colab-df-convert {\n",
              "      background-color: #3B4455;\n",
              "      fill: #D2E3FC;\n",
              "    }\n",
              "\n",
              "    [theme=dark] .colab-df-convert:hover {\n",
              "      background-color: #434B5C;\n",
              "      box-shadow: 0px 1px 3px 1px rgba(0, 0, 0, 0.15);\n",
              "      filter: drop-shadow(0px 1px 2px rgba(0, 0, 0, 0.3));\n",
              "      fill: #FFFFFF;\n",
              "    }\n",
              "  </style>\n",
              "\n",
              "      <script>\n",
              "        const buttonEl =\n",
              "          document.querySelector('#df-701a0664-52bb-49ee-ab02-f4a2de58d63b button.colab-df-convert');\n",
              "        buttonEl.style.display =\n",
              "          google.colab.kernel.accessAllowed ? 'block' : 'none';\n",
              "\n",
              "        async function convertToInteractive(key) {\n",
              "          const element = document.querySelector('#df-701a0664-52bb-49ee-ab02-f4a2de58d63b');\n",
              "          const dataTable =\n",
              "            await google.colab.kernel.invokeFunction('convertToInteractive',\n",
              "                                                     [key], {});\n",
              "          if (!dataTable) return;\n",
              "\n",
              "          const docLinkHtml = 'Like what you see? Visit the ' +\n",
              "            '<a target=\"_blank\" href=https://colab.research.google.com/notebooks/data_table.ipynb>data table notebook</a>'\n",
              "            + ' to learn more about interactive tables.';\n",
              "          element.innerHTML = '';\n",
              "          dataTable['output_type'] = 'display_data';\n",
              "          await google.colab.output.renderOutput(dataTable, element);\n",
              "          const docLink = document.createElement('div');\n",
              "          docLink.innerHTML = docLinkHtml;\n",
              "          element.appendChild(docLink);\n",
              "        }\n",
              "      </script>\n",
              "    </div>\n",
              "  </div>\n",
              "  "
            ]
          },
          "metadata": {},
          "execution_count": 7
        }
      ]
    },
    {
      "cell_type": "code",
      "metadata": {
        "id": "owwSCuZYU-sT"
      },
      "source": [
        "df2019 = df[0]"
      ],
      "execution_count": 8,
      "outputs": []
    },
    {
      "cell_type": "markdown",
      "metadata": {
        "id": "laW205ykvn0S"
      },
      "source": [
        "## Data cleaning"
      ]
    },
    {
      "cell_type": "markdown",
      "metadata": {
        "id": "b-cH41xd54Tw"
      },
      "source": [
        "We can see that the table header is presented multiple times in several rows."
      ]
    },
    {
      "cell_type": "code",
      "metadata": {
        "id": "6St9yeuZg9rf"
      },
      "source": [
        "df2019[df2019.Age == 'Age']"
      ],
      "execution_count": null,
      "outputs": []
    },
    {
      "cell_type": "code",
      "metadata": {
        "id": "rdRg9UDI5lus"
      },
      "source": [
        "len(df2019[df2019.Age == 'Age'])"
      ],
      "execution_count": null,
      "outputs": []
    },
    {
      "cell_type": "code",
      "metadata": {
        "id": "lG34yiD5e_Cs"
      },
      "source": [
        "df = df2019.drop(df2019[df2019.Age == 'Age'].index)"
      ],
      "execution_count": null,
      "outputs": []
    },
    {
      "cell_type": "code",
      "metadata": {
        "id": "1DwL0sq-u7wF",
        "outputId": "6b159909-d654-46da-fc54-cdeab3dd5703",
        "colab": {
          "base_uri": "https://localhost:8080/",
          "height": 35
        }
      },
      "source": [
        "df.shape"
      ],
      "execution_count": null,
      "outputs": [
        {
          "output_type": "execute_result",
          "data": {
            "text/plain": [
              "(708, 30)"
            ]
          },
          "metadata": {
            "tags": []
          },
          "execution_count": 13
        }
      ]
    }
  ]
}